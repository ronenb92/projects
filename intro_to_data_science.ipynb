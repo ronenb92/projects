{
 "cells": [
  {
   "cell_type": "code",
   "execution_count": 1,
   "metadata": {},
   "outputs": [],
   "source": [
    "import pandas as pd\n",
    "import matplotlib.pyplot as plt\n",
    "import seaborn as sns\n",
    "sns.set()\n",
    "%matplotlib inline"
   ]
  },
  {
   "cell_type": "code",
   "execution_count": 2,
   "metadata": {},
   "outputs": [
    {
     "data": {
      "text/html": [
       "<div>\n",
       "<style scoped>\n",
       "    .dataframe tbody tr th:only-of-type {\n",
       "        vertical-align: middle;\n",
       "    }\n",
       "\n",
       "    .dataframe tbody tr th {\n",
       "        vertical-align: top;\n",
       "    }\n",
       "\n",
       "    .dataframe thead th {\n",
       "        text-align: right;\n",
       "    }\n",
       "</style>\n",
       "<table border=\"1\" class=\"dataframe\">\n",
       "  <thead>\n",
       "    <tr style=\"text-align: right;\">\n",
       "      <th></th>\n",
       "      <th>gender</th>\n",
       "      <th>age</th>\n",
       "      <th>hypertension</th>\n",
       "      <th>heart_disease</th>\n",
       "      <th>ever_married</th>\n",
       "      <th>work_type</th>\n",
       "      <th>Residence_type</th>\n",
       "      <th>avg_glucose_level</th>\n",
       "      <th>bmi</th>\n",
       "      <th>smoking_status</th>\n",
       "      <th>stroke</th>\n",
       "    </tr>\n",
       "  </thead>\n",
       "  <tbody>\n",
       "    <tr>\n",
       "      <th>0</th>\n",
       "      <td>Female</td>\n",
       "      <td>17.0</td>\n",
       "      <td>0</td>\n",
       "      <td>0</td>\n",
       "      <td>No</td>\n",
       "      <td>Private</td>\n",
       "      <td>Urban</td>\n",
       "      <td>92.97</td>\n",
       "      <td>NaN</td>\n",
       "      <td>formerly smoked</td>\n",
       "      <td>0</td>\n",
       "    </tr>\n",
       "    <tr>\n",
       "      <th>1</th>\n",
       "      <td>Female</td>\n",
       "      <td>13.0</td>\n",
       "      <td>0</td>\n",
       "      <td>0</td>\n",
       "      <td>No</td>\n",
       "      <td>children</td>\n",
       "      <td>Rural</td>\n",
       "      <td>85.81</td>\n",
       "      <td>18.6</td>\n",
       "      <td>Unknown</td>\n",
       "      <td>0</td>\n",
       "    </tr>\n",
       "    <tr>\n",
       "      <th>2</th>\n",
       "      <td>Male</td>\n",
       "      <td>55.0</td>\n",
       "      <td>0</td>\n",
       "      <td>0</td>\n",
       "      <td>Yes</td>\n",
       "      <td>Private</td>\n",
       "      <td>Urban</td>\n",
       "      <td>89.17</td>\n",
       "      <td>31.5</td>\n",
       "      <td>never smoked</td>\n",
       "      <td>0</td>\n",
       "    </tr>\n",
       "    <tr>\n",
       "      <th>3</th>\n",
       "      <td>Female</td>\n",
       "      <td>42.0</td>\n",
       "      <td>0</td>\n",
       "      <td>0</td>\n",
       "      <td>No</td>\n",
       "      <td>Private</td>\n",
       "      <td>Urban</td>\n",
       "      <td>98.53</td>\n",
       "      <td>18.5</td>\n",
       "      <td>never smoked</td>\n",
       "      <td>0</td>\n",
       "    </tr>\n",
       "    <tr>\n",
       "      <th>4</th>\n",
       "      <td>Female</td>\n",
       "      <td>31.0</td>\n",
       "      <td>0</td>\n",
       "      <td>0</td>\n",
       "      <td>No</td>\n",
       "      <td>Private</td>\n",
       "      <td>Urban</td>\n",
       "      <td>108.89</td>\n",
       "      <td>52.3</td>\n",
       "      <td>Unknown</td>\n",
       "      <td>0</td>\n",
       "    </tr>\n",
       "  </tbody>\n",
       "</table>\n",
       "</div>"
      ],
      "text/plain": [
       "   gender   age  hypertension  heart_disease ever_married work_type  \\\n",
       "0  Female  17.0             0              0           No   Private   \n",
       "1  Female  13.0             0              0           No  children   \n",
       "2    Male  55.0             0              0          Yes   Private   \n",
       "3  Female  42.0             0              0           No   Private   \n",
       "4  Female  31.0             0              0           No   Private   \n",
       "\n",
       "  Residence_type  avg_glucose_level   bmi   smoking_status  stroke  \n",
       "0          Urban              92.97   NaN  formerly smoked       0  \n",
       "1          Rural              85.81  18.6          Unknown       0  \n",
       "2          Urban              89.17  31.5     never smoked       0  \n",
       "3          Urban              98.53  18.5     never smoked       0  \n",
       "4          Urban             108.89  52.3          Unknown       0  "
      ]
     },
     "execution_count": 2,
     "metadata": {},
     "output_type": "execute_result"
    }
   ],
   "source": [
    "df = pd.read_csv(r\"C:\\Users\\ronrn\\Desktop\\MBA\\intro to data science\\final project\\healthcare-dataset-stroke-data.csv\")\n",
    "df.head(5)"
   ]
  },
  {
   "cell_type": "markdown",
   "metadata": {},
   "source": [
    "# explanation"
   ]
  },
  {
   "cell_type": "markdown",
   "metadata": {},
   "source": [
    "This dataset predicts whether a patient is likely to get a stroke based on the input parameters like gender, age, various diseases and smoking status. Each row in the data provides relevant information about the patient.\n",
    "1. The column \"gender\" describes the gender of the patient (\"Male\", \"Female\" or \"Other\").\n",
    "2. The column \"age\" describes the age of the patient.\n",
    "3. The column \"hypertension\" describes if the patient has hypertension (1-yes or 0-no).\n",
    "4. The column \"heart_disease\" describes if the patient has a heart disease (1-yes or 0-no).\n",
    "5. The column \"ever_married\" describes if the patient has ever been married (\"Yes\" or \"No\").\n",
    "6. The column \"work_type\" describes the patient's work type (\"children\", \"Govt_job\", \"Never_worked\", \"Private\" or \"Self-employed\").\n",
    "7. The column \"Residence_type\" describes the patient's residence type (\"Rural\" or \"Urban\").\n",
    "8. The column \"avg_glucose_level\" describes patient's average glucose level in blood.\n",
    "9. The column \"bmi\" describes patient's body mass index.\n",
    "10. The column \"smoking_status\" describes patient's smoking status (\"formerly smoked\", \"never smoked\", \"smokes\" or \"Unknown\").\n",
    "11. The column \"stroke\" describes if the patient had a stroke (1-yes or 0-no).\n",
    "\n",
    "The \"stroke\" column is the prediction result - we want to see how the different parameters infect on the chances of the patient to get a stroke."
   ]
  },
  {
   "cell_type": "code",
   "execution_count": 3,
   "metadata": {},
   "outputs": [
    {
     "data": {
      "text/html": [
       "<div>\n",
       "<style scoped>\n",
       "    .dataframe tbody tr th:only-of-type {\n",
       "        vertical-align: middle;\n",
       "    }\n",
       "\n",
       "    .dataframe tbody tr th {\n",
       "        vertical-align: top;\n",
       "    }\n",
       "\n",
       "    .dataframe thead th {\n",
       "        text-align: right;\n",
       "    }\n",
       "</style>\n",
       "<table border=\"1\" class=\"dataframe\">\n",
       "  <thead>\n",
       "    <tr style=\"text-align: right;\">\n",
       "      <th></th>\n",
       "      <th>age</th>\n",
       "      <th>hypertension</th>\n",
       "      <th>heart_disease</th>\n",
       "      <th>avg_glucose_level</th>\n",
       "      <th>bmi</th>\n",
       "      <th>stroke</th>\n",
       "    </tr>\n",
       "  </thead>\n",
       "  <tbody>\n",
       "    <tr>\n",
       "      <th>count</th>\n",
       "      <td>5110.000000</td>\n",
       "      <td>5110.000000</td>\n",
       "      <td>5110.000000</td>\n",
       "      <td>5110.000000</td>\n",
       "      <td>4909.000000</td>\n",
       "      <td>5110.000000</td>\n",
       "    </tr>\n",
       "    <tr>\n",
       "      <th>mean</th>\n",
       "      <td>43.226614</td>\n",
       "      <td>0.097456</td>\n",
       "      <td>0.054012</td>\n",
       "      <td>106.147677</td>\n",
       "      <td>28.893237</td>\n",
       "      <td>0.048728</td>\n",
       "    </tr>\n",
       "    <tr>\n",
       "      <th>std</th>\n",
       "      <td>22.612647</td>\n",
       "      <td>0.296607</td>\n",
       "      <td>0.226063</td>\n",
       "      <td>45.283560</td>\n",
       "      <td>7.854067</td>\n",
       "      <td>0.215320</td>\n",
       "    </tr>\n",
       "    <tr>\n",
       "      <th>min</th>\n",
       "      <td>0.080000</td>\n",
       "      <td>0.000000</td>\n",
       "      <td>0.000000</td>\n",
       "      <td>55.120000</td>\n",
       "      <td>10.300000</td>\n",
       "      <td>0.000000</td>\n",
       "    </tr>\n",
       "    <tr>\n",
       "      <th>25%</th>\n",
       "      <td>25.000000</td>\n",
       "      <td>0.000000</td>\n",
       "      <td>0.000000</td>\n",
       "      <td>77.245000</td>\n",
       "      <td>23.500000</td>\n",
       "      <td>0.000000</td>\n",
       "    </tr>\n",
       "    <tr>\n",
       "      <th>50%</th>\n",
       "      <td>45.000000</td>\n",
       "      <td>0.000000</td>\n",
       "      <td>0.000000</td>\n",
       "      <td>91.885000</td>\n",
       "      <td>28.100000</td>\n",
       "      <td>0.000000</td>\n",
       "    </tr>\n",
       "    <tr>\n",
       "      <th>75%</th>\n",
       "      <td>61.000000</td>\n",
       "      <td>0.000000</td>\n",
       "      <td>0.000000</td>\n",
       "      <td>114.090000</td>\n",
       "      <td>33.100000</td>\n",
       "      <td>0.000000</td>\n",
       "    </tr>\n",
       "    <tr>\n",
       "      <th>max</th>\n",
       "      <td>82.000000</td>\n",
       "      <td>1.000000</td>\n",
       "      <td>1.000000</td>\n",
       "      <td>271.740000</td>\n",
       "      <td>97.600000</td>\n",
       "      <td>1.000000</td>\n",
       "    </tr>\n",
       "  </tbody>\n",
       "</table>\n",
       "</div>"
      ],
      "text/plain": [
       "               age  hypertension  heart_disease  avg_glucose_level  \\\n",
       "count  5110.000000   5110.000000    5110.000000        5110.000000   \n",
       "mean     43.226614      0.097456       0.054012         106.147677   \n",
       "std      22.612647      0.296607       0.226063          45.283560   \n",
       "min       0.080000      0.000000       0.000000          55.120000   \n",
       "25%      25.000000      0.000000       0.000000          77.245000   \n",
       "50%      45.000000      0.000000       0.000000          91.885000   \n",
       "75%      61.000000      0.000000       0.000000         114.090000   \n",
       "max      82.000000      1.000000       1.000000         271.740000   \n",
       "\n",
       "               bmi       stroke  \n",
       "count  4909.000000  5110.000000  \n",
       "mean     28.893237     0.048728  \n",
       "std       7.854067     0.215320  \n",
       "min      10.300000     0.000000  \n",
       "25%      23.500000     0.000000  \n",
       "50%      28.100000     0.000000  \n",
       "75%      33.100000     0.000000  \n",
       "max      97.600000     1.000000  "
      ]
     },
     "execution_count": 3,
     "metadata": {},
     "output_type": "execute_result"
    }
   ],
   "source": [
    "df.describe() #shows only numerical features"
   ]
  },
  {
   "cell_type": "markdown",
   "metadata": {},
   "source": [
    "We can notice that the \"bmi\" column (body mass index) is the only one that have missing values - out of 5110 patients, it contains only 4909 values.\n",
    "the avarage bmi is 28.9, and the standard deviation is 7.85 - means that most of the patients have bmi in the range of 21-37.\n",
    "the minimum value of bmi is 10.3 and the maximum is 97.6.\n",
    "we can see that 25% of the patients have bmi of less than 23.5, 50% have bmi of less than 28.1 and 75% have bmi of less than 33.1."
   ]
  },
  {
   "cell_type": "markdown",
   "metadata": {},
   "source": [
    "# 1 null values"
   ]
  },
  {
   "cell_type": "code",
   "execution_count": 4,
   "metadata": {},
   "outputs": [
    {
     "name": "stdout",
     "output_type": "stream",
     "text": [
      "<class 'pandas.core.frame.DataFrame'>\n",
      "RangeIndex: 5110 entries, 0 to 5109\n",
      "Data columns (total 11 columns):\n",
      " #   Column             Non-Null Count  Dtype  \n",
      "---  ------             --------------  -----  \n",
      " 0   gender             5110 non-null   object \n",
      " 1   age                5110 non-null   float64\n",
      " 2   hypertension       5110 non-null   int64  \n",
      " 3   heart_disease      5110 non-null   int64  \n",
      " 4   ever_married       5110 non-null   object \n",
      " 5   work_type          5110 non-null   object \n",
      " 6   Residence_type     5110 non-null   object \n",
      " 7   avg_glucose_level  5110 non-null   float64\n",
      " 8   bmi                4909 non-null   float64\n",
      " 9   smoking_status     5110 non-null   object \n",
      " 10  stroke             5110 non-null   int64  \n",
      "dtypes: float64(3), int64(3), object(5)\n",
      "memory usage: 439.3+ KB\n"
     ]
    }
   ],
   "source": [
    "df.info()"
   ]
  },
  {
   "cell_type": "code",
   "execution_count": 5,
   "metadata": {},
   "outputs": [
    {
     "data": {
      "text/plain": [
       "gender               False\n",
       "age                  False\n",
       "hypertension         False\n",
       "heart_disease        False\n",
       "ever_married         False\n",
       "work_type            False\n",
       "Residence_type       False\n",
       "avg_glucose_level    False\n",
       "bmi                   True\n",
       "smoking_status       False\n",
       "stroke               False\n",
       "dtype: bool"
      ]
     },
     "execution_count": 5,
     "metadata": {},
     "output_type": "execute_result"
    }
   ],
   "source": [
    "df.isna().any() #shows the columns that have missing values"
   ]
  },
  {
   "cell_type": "markdown",
   "metadata": {},
   "source": [
    "we can see that the only parameter that contains null values is \"bmi\" - out of 5110 values, there are 201 which are null values.\n",
    "In order to deal with that problem - I will calculate the mean of the \"bmi\" parameter, and fill the null values with the mean value.\n",
    "Because it is artificially generated, it means that the data will not be accurate."
   ]
  },
  {
   "cell_type": "markdown",
   "metadata": {},
   "source": [
    "## 1.1 bmi"
   ]
  },
  {
   "cell_type": "code",
   "execution_count": 6,
   "metadata": {},
   "outputs": [
    {
     "data": {
      "text/plain": [
       "28.89323691179468"
      ]
     },
     "execution_count": 6,
     "metadata": {},
     "output_type": "execute_result"
    }
   ],
   "source": [
    "df.bmi.mean() #calculate the mean of \"bmi\""
   ]
  },
  {
   "cell_type": "code",
   "execution_count": 7,
   "metadata": {},
   "outputs": [],
   "source": [
    "#fill the null values with the mean value of \"bmi\", by using another column to indicate this value is artificial\n",
    "df['bmi_available'] = ~df['bmi'].isnull()\n",
    "df['bmi'] = df['bmi'].fillna(df['bmi'].mean())"
   ]
  },
  {
   "cell_type": "code",
   "execution_count": 8,
   "metadata": {},
   "outputs": [
    {
     "data": {
      "text/plain": [
       "False"
      ]
     },
     "execution_count": 8,
     "metadata": {},
     "output_type": "execute_result"
    }
   ],
   "source": [
    "df.bmi.isna().any() #check that there are no null values left in \"bmi\""
   ]
  },
  {
   "cell_type": "code",
   "execution_count": 9,
   "metadata": {},
   "outputs": [
    {
     "name": "stdout",
     "output_type": "stream",
     "text": [
      "<class 'pandas.core.frame.DataFrame'>\n",
      "RangeIndex: 5110 entries, 0 to 5109\n",
      "Data columns (total 12 columns):\n",
      " #   Column             Non-Null Count  Dtype  \n",
      "---  ------             --------------  -----  \n",
      " 0   gender             5110 non-null   object \n",
      " 1   age                5110 non-null   float64\n",
      " 2   hypertension       5110 non-null   int64  \n",
      " 3   heart_disease      5110 non-null   int64  \n",
      " 4   ever_married       5110 non-null   object \n",
      " 5   work_type          5110 non-null   object \n",
      " 6   Residence_type     5110 non-null   object \n",
      " 7   avg_glucose_level  5110 non-null   float64\n",
      " 8   bmi                5110 non-null   float64\n",
      " 9   smoking_status     5110 non-null   object \n",
      " 10  stroke             5110 non-null   int64  \n",
      " 11  bmi_available      5110 non-null   bool   \n",
      "dtypes: bool(1), float64(3), int64(3), object(5)\n",
      "memory usage: 444.3+ KB\n"
     ]
    }
   ],
   "source": [
    "df.info() #check that all the columns are filled with values"
   ]
  },
  {
   "cell_type": "markdown",
   "metadata": {},
   "source": [
    "# 2 EDA"
   ]
  },
  {
   "cell_type": "markdown",
   "metadata": {},
   "source": [
    "The question I would like to explore is - what kind of patients get a stroke?"
   ]
  },
  {
   "cell_type": "code",
   "execution_count": 10,
   "metadata": {},
   "outputs": [
    {
     "data": {
      "text/plain": [
       "0    4861\n",
       "1     249\n",
       "Name: stroke, dtype: int64"
      ]
     },
     "execution_count": 10,
     "metadata": {},
     "output_type": "execute_result"
    }
   ],
   "source": [
    "df.stroke.value_counts() #how mamy patients had stroke"
   ]
  },
  {
   "cell_type": "code",
   "execution_count": 11,
   "metadata": {},
   "outputs": [
    {
     "data": {
      "text/plain": [
       "0    0.951272\n",
       "1    0.048728\n",
       "Name: stroke, dtype: float64"
      ]
     },
     "execution_count": 11,
     "metadata": {},
     "output_type": "execute_result"
    }
   ],
   "source": [
    "df.stroke.value_counts(normalize=True) #the precentage of patients who had stroke"
   ]
  },
  {
   "cell_type": "markdown",
   "metadata": {},
   "source": [
    "In this dataset - 95.13% of the patients had no stroke, and 4.87% of the patients had stroke."
   ]
  },
  {
   "cell_type": "markdown",
   "metadata": {},
   "source": [
    "## 2.1 stroke and gender"
   ]
  },
  {
   "cell_type": "code",
   "execution_count": 12,
   "metadata": {},
   "outputs": [
    {
     "data": {
      "text/plain": [
       "Female    0.585910\n",
       "Male      0.413894\n",
       "Other     0.000196\n",
       "Name: gender, dtype: float64"
      ]
     },
     "execution_count": 12,
     "metadata": {},
     "output_type": "execute_result"
    }
   ],
   "source": [
    "df.gender.value_counts(normalize=True) #the precentage of patients by gender"
   ]
  },
  {
   "cell_type": "code",
   "execution_count": 13,
   "metadata": {},
   "outputs": [
    {
     "data": {
      "text/plain": [
       "gender\n",
       "Female    0.047094\n",
       "Male      0.051064\n",
       "Other     0.000000\n",
       "Name: stroke, dtype: float64"
      ]
     },
     "execution_count": 13,
     "metadata": {},
     "output_type": "execute_result"
    }
   ],
   "source": [
    "df.stroke.groupby(df.gender).mean() #the precentage of patients who had stroke by gender"
   ]
  },
  {
   "cell_type": "code",
   "execution_count": 14,
   "metadata": {},
   "outputs": [
    {
     "data": {
      "text/plain": [
       "gender  stroke\n",
       "Female  0         2853\n",
       "        1          141\n",
       "Male    0         2007\n",
       "        1          108\n",
       "Other   0            1\n",
       "Name: stroke, dtype: int64"
      ]
     },
     "execution_count": 14,
     "metadata": {},
     "output_type": "execute_result"
    }
   ],
   "source": [
    "df.groupby([\"gender\", \"stroke\"])[\"stroke\"].count() #the number of patients who had stroke by gender"
   ]
  },
  {
   "cell_type": "code",
   "execution_count": 15,
   "metadata": {},
   "outputs": [
    {
     "data": {
      "text/plain": [
       "Text(0.5, 0, 'gender')"
      ]
     },
     "execution_count": 15,
     "metadata": {},
     "output_type": "execute_result"
    },
    {
     "data": {
      "image/png": "[encoded data removed]",
      "text/plain": [
       "<Figure size 648x432 with 1 Axes>"
      ]
     },
     "metadata": {
      "needs_background": "light"
     },
     "output_type": "display_data"
    }
   ],
   "source": [
    "#visualization of the stoke distribution by gender\n",
    "plt.figure(figsize=(9,6))\n",
    "sns.countplot(\"gender\", hue=\"stroke\", data=df)\n",
    "plt.title(\"stroke by gender\")\n",
    "plt.ylabel(\"number of patients\")\n",
    "plt.xlabel(\"gender\")"
   ]
  },
  {
   "cell_type": "code",
   "execution_count": 16,
   "metadata": {},
   "outputs": [
    {
     "data": {
      "text/plain": [
       "Text(0.5, 0, 'gender')"
      ]
     },
     "execution_count": 16,
     "metadata": {},
     "output_type": "execute_result"
    },
    {
     "data": {
      "image/png": "[encoded data removed]",
      "text/plain": [
       "<Figure size 648x432 with 1 Axes>"
      ]
     },
     "metadata": {
      "needs_background": "light"
     },
     "output_type": "display_data"
    }
   ],
   "source": [
    "#visualization of patients who had stroke by gender\n",
    "plt.figure(figsize=(9,6))\n",
    "fig = df.stroke.groupby(df.gender).mean().plot(kind=\"bar\", color=list(\"rgb\"))\n",
    "plt.title(\"stroke by gender\")\n",
    "plt.ylabel(\"precentage\")\n",
    "plt.xlabel(\"gender\")"
   ]
  },
  {
   "cell_type": "markdown",
   "metadata": {},
   "source": [
    "There are more female patients in the dataset and so there are more female who had a stoke, but the precentage of female who had a stroke is lower than the precentage of male who had a stroke.\n",
    "\n",
    "Out of the male patients - around 5.1% had stroke, and out of the female patients - around 4.7% had stroke.\n",
    "\n",
    "Although there is a difference, it is not seems to be a huge difference between male and female.\n",
    "\n",
    "The conclusion - gender is not that important to predict a stroke."
   ]
  },
  {
   "cell_type": "markdown",
   "metadata": {},
   "source": [
    "## 2.2 stroke and age"
   ]
  },
  {
   "cell_type": "code",
   "execution_count": 17,
   "metadata": {},
   "outputs": [
    {
     "data": {
      "text/plain": [
       "<matplotlib.axes._subplots.AxesSubplot at 0x25e8780be80>"
      ]
     },
     "execution_count": 17,
     "metadata": {},
     "output_type": "execute_result"
    },
    {
     "data": {
      "image/png": "[encoded data removed]",
      "text/plain": [
       "<Figure size 432x288 with 1 Axes>"
      ]
     },
     "metadata": {
      "needs_background": "light"
     },
     "output_type": "display_data"
    }
   ],
   "source": [
    "df.age.hist(bins=30) #the distribution of patients by age"
   ]
  },
  {
   "cell_type": "code",
   "execution_count": 18,
   "metadata": {},
   "outputs": [
    {
     "data": {
      "text/plain": [
       "Text(0.5, 0, 'age')"
      ]
     },
     "execution_count": 18,
     "metadata": {},
     "output_type": "execute_result"
    },
    {
     "data": {
      "image/png": "[encoded data removed]",
      "text/plain": [
       "<Figure size 648x432 with 1 Axes>"
      ]
     },
     "metadata": {
      "needs_background": "light"
     },
     "output_type": "display_data"
    }
   ],
   "source": [
    "#visualization of patients who had stroke by age\n",
    "plt.figure(figsize=(9,6))\n",
    "fig = df[\"stroke\"].groupby(pd.cut(df[\"age\"], 10)).mean().plot(kind=\"bar\", color=list(\"rgbykmc\"))\n",
    "plt.title(\"stroke by age\")\n",
    "plt.ylabel(\"precentage\")\n",
    "plt.xlabel(\"age\")"
   ]
  },
  {
   "cell_type": "code",
   "execution_count": 19,
   "metadata": {},
   "outputs": [
    {
     "name": "stdout",
     "output_type": "stream",
     "text": [
      "The oldest person who had a stroke was at age: 82.0\n",
      "The youngest person who had a stroke was at age: 1.32\n",
      "The average age of person who had a stroke: 67.72819277108434\n"
     ]
    }
   ],
   "source": [
    "print('The oldest person who had a stroke was at age:',df.age[df.stroke==1].max())\n",
    "print('The youngest person who had a stroke was at age:',df.age[df.stroke==1].min())\n",
    "print('The average age of person who had a stroke:',df.age[df.stroke==1].mean())"
   ]
  },
  {
   "cell_type": "markdown",
   "metadata": {},
   "source": [
    "We can see that the distribution of patients by age is pretty equal, but as long as the patient is older - he has more chances to get a stroke.\n",
    "Because there is a significant correlation between the age and the stroke probability, the conclusion is that age is important to predict a stroke."
   ]
  },
  {
   "cell_type": "markdown",
   "metadata": {},
   "source": [
    "## 2.3 stroke and smoking"
   ]
  },
  {
   "cell_type": "code",
   "execution_count": 20,
   "metadata": {},
   "outputs": [
    {
     "data": {
      "text/plain": [
       "Text(0.5, 0, 'smoking status')"
      ]
     },
     "execution_count": 20,
     "metadata": {},
     "output_type": "execute_result"
    },
    {
     "data": {
      "image/png": "[encoded data removed]",
      "text/plain": [
       "<Figure size 648x432 with 1 Axes>"
      ]
     },
     "metadata": {
      "needs_background": "light"
     },
     "output_type": "display_data"
    }
   ],
   "source": [
    "plt.figure(figsize=(9,6))\n",
    "fig = df.stroke.groupby(df.smoking_status).mean().plot(kind=\"bar\", color=list(\"rgby\"))\n",
    "plt.title(\"stroke by smoking status\")\n",
    "plt.ylabel(\"precentage\")\n",
    "plt.xlabel(\"smoking status\")"
   ]
  },
  {
   "cell_type": "code",
   "execution_count": 21,
   "metadata": {},
   "outputs": [
    {
     "data": {
      "text/plain": [
       "<seaborn.axisgrid.FacetGrid at 0x25e87993b20>"
      ]
     },
     "execution_count": 21,
     "metadata": {},
     "output_type": "execute_result"
    },
    {
     "data": {
      "image/png": "[encoded data removed]",
      "text/plain": [
       "<Figure size 1440x360 with 4 Axes>"
      ]
     },
     "metadata": {
      "needs_background": "light"
     },
     "output_type": "display_data"
    }
   ],
   "source": [
    "sns.catplot(x='stroke', col='smoking_status', kind='count', data=df)"
   ]
  },
  {
   "cell_type": "code",
   "execution_count": 22,
   "metadata": {},
   "outputs": [
    {
     "data": {
      "text/html": [
       "<style  type=\"text/css\" >\n",
       "    #T_65aca218_6ac7_11eb_86b8_4a5f9919a539row0_col0 {\n",
       "            background-color:  #ffd100;\n",
       "            color:  #000000;\n",
       "        }    #T_65aca218_6ac7_11eb_86b8_4a5f9919a539row0_col1 {\n",
       "            background-color:  #fff900;\n",
       "            color:  #000000;\n",
       "        }    #T_65aca218_6ac7_11eb_86b8_4a5f9919a539row0_col2 {\n",
       "            background-color:  #ffd300;\n",
       "            color:  #000000;\n",
       "        }    #T_65aca218_6ac7_11eb_86b8_4a5f9919a539row1_col0 {\n",
       "            background-color:  #fffb00;\n",
       "            color:  #000000;\n",
       "        }    #T_65aca218_6ac7_11eb_86b8_4a5f9919a539row1_col1 {\n",
       "            background-color:  #ffdd00;\n",
       "            color:  #000000;\n",
       "        }    #T_65aca218_6ac7_11eb_86b8_4a5f9919a539row1_col2 {\n",
       "            background-color:  #fffa00;\n",
       "            color:  #000000;\n",
       "        }    #T_65aca218_6ac7_11eb_86b8_4a5f9919a539row2_col0 {\n",
       "            background-color:  #ffbe00;\n",
       "            color:  #000000;\n",
       "        }    #T_65aca218_6ac7_11eb_86b8_4a5f9919a539row2_col1 {\n",
       "            background-color:  #ffc400;\n",
       "            color:  #000000;\n",
       "        }    #T_65aca218_6ac7_11eb_86b8_4a5f9919a539row2_col2 {\n",
       "            background-color:  #ffbe00;\n",
       "            color:  #000000;\n",
       "        }    #T_65aca218_6ac7_11eb_86b8_4a5f9919a539row3_col0 {\n",
       "            background-color:  #ffff00;\n",
       "            color:  #000000;\n",
       "        }    #T_65aca218_6ac7_11eb_86b8_4a5f9919a539row3_col1 {\n",
       "            background-color:  #ffff00;\n",
       "            color:  #000000;\n",
       "        }    #T_65aca218_6ac7_11eb_86b8_4a5f9919a539row3_col2 {\n",
       "            background-color:  #ffff00;\n",
       "            color:  #000000;\n",
       "        }    #T_65aca218_6ac7_11eb_86b8_4a5f9919a539row4_col0 {\n",
       "            background-color:  #ff0000;\n",
       "            color:  #f1f1f1;\n",
       "        }    #T_65aca218_6ac7_11eb_86b8_4a5f9919a539row4_col1 {\n",
       "            background-color:  #ff0000;\n",
       "            color:  #f1f1f1;\n",
       "        }    #T_65aca218_6ac7_11eb_86b8_4a5f9919a539row4_col2 {\n",
       "            background-color:  #ff0000;\n",
       "            color:  #f1f1f1;\n",
       "        }</style><table id=\"T_65aca218_6ac7_11eb_86b8_4a5f9919a539\" ><thead>    <tr>        <th class=\"index_name level0\" >stroke</th>        <th class=\"col_heading level0 col0\" >0</th>        <th class=\"col_heading level0 col1\" >1</th>        <th class=\"col_heading level0 col2\" >All</th>    </tr>    <tr>        <th class=\"index_name level0\" >smoking_status</th>        <th class=\"blank\" ></th>        <th class=\"blank\" ></th>        <th class=\"blank\" ></th>    </tr></thead><tbody>\n",
       "                <tr>\n",
       "                        <th id=\"T_65aca218_6ac7_11eb_86b8_4a5f9919a539level0_row0\" class=\"row_heading level0 row0\" >Unknown</th>\n",
       "                        <td id=\"T_65aca218_6ac7_11eb_86b8_4a5f9919a539row0_col0\" class=\"data row0 col0\" >1497</td>\n",
       "                        <td id=\"T_65aca218_6ac7_11eb_86b8_4a5f9919a539row0_col1\" class=\"data row0 col1\" >47</td>\n",
       "                        <td id=\"T_65aca218_6ac7_11eb_86b8_4a5f9919a539row0_col2\" class=\"data row0 col2\" >1544</td>\n",
       "            </tr>\n",
       "            <tr>\n",
       "                        <th id=\"T_65aca218_6ac7_11eb_86b8_4a5f9919a539level0_row1\" class=\"row_heading level0 row1\" >formerly smoked</th>\n",
       "                        <td id=\"T_65aca218_6ac7_11eb_86b8_4a5f9919a539row1_col0\" class=\"data row1 col0\" >815</td>\n",
       "                        <td id=\"T_65aca218_6ac7_11eb_86b8_4a5f9919a539row1_col1\" class=\"data row1 col1\" >70</td>\n",
       "                        <td id=\"T_65aca218_6ac7_11eb_86b8_4a5f9919a539row1_col2\" class=\"data row1 col2\" >885</td>\n",
       "            </tr>\n",
       "            <tr>\n",
       "                        <th id=\"T_65aca218_6ac7_11eb_86b8_4a5f9919a539level0_row2\" class=\"row_heading level0 row2\" >never smoked</th>\n",
       "                        <td id=\"T_65aca218_6ac7_11eb_86b8_4a5f9919a539row2_col0\" class=\"data row2 col0\" >1802</td>\n",
       "                        <td id=\"T_65aca218_6ac7_11eb_86b8_4a5f9919a539row2_col1\" class=\"data row2 col1\" >90</td>\n",
       "                        <td id=\"T_65aca218_6ac7_11eb_86b8_4a5f9919a539row2_col2\" class=\"data row2 col2\" >1892</td>\n",
       "            </tr>\n",
       "            <tr>\n",
       "                        <th id=\"T_65aca218_6ac7_11eb_86b8_4a5f9919a539level0_row3\" class=\"row_heading level0 row3\" >smokes</th>\n",
       "                        <td id=\"T_65aca218_6ac7_11eb_86b8_4a5f9919a539row3_col0\" class=\"data row3 col0\" >747</td>\n",
       "                        <td id=\"T_65aca218_6ac7_11eb_86b8_4a5f9919a539row3_col1\" class=\"data row3 col1\" >42</td>\n",
       "                        <td id=\"T_65aca218_6ac7_11eb_86b8_4a5f9919a539row3_col2\" class=\"data row3 col2\" >789</td>\n",
       "            </tr>\n",
       "            <tr>\n",
       "                        <th id=\"T_65aca218_6ac7_11eb_86b8_4a5f9919a539level0_row4\" class=\"row_heading level0 row4\" >All</th>\n",
       "                        <td id=\"T_65aca218_6ac7_11eb_86b8_4a5f9919a539row4_col0\" class=\"data row4 col0\" >4861</td>\n",
       "                        <td id=\"T_65aca218_6ac7_11eb_86b8_4a5f9919a539row4_col1\" class=\"data row4 col1\" >249</td>\n",
       "                        <td id=\"T_65aca218_6ac7_11eb_86b8_4a5f9919a539row4_col2\" class=\"data row4 col2\" >5110</td>\n",
       "            </tr>\n",
       "    </tbody></table>"
      ],
      "text/plain": [
       "<pandas.io.formats.style.Styler at 0x25e87e06c70>"
      ]
     },
     "execution_count": 22,
     "metadata": {},
     "output_type": "execute_result"
    }
   ],
   "source": [
    "pd.crosstab(df.smoking_status, df.stroke, margins=True).style.background_gradient(cmap='autumn_r')"
   ]
  },
  {
   "cell_type": "code",
   "execution_count": 23,
   "metadata": {},
   "outputs": [
    {
     "name": "stdout",
     "output_type": "stream",
     "text": [
      "% of patients who had a stroke\n",
      "formerly smoked:  0.07909604519774012\n",
      "never smoked:  0.04756871035940803\n",
      "smokes:  0.053231939163498096\n"
     ]
    }
   ],
   "source": [
    "print(\"% of patients who had a stroke\") \n",
    "print(\"formerly smoked: \", df.stroke[df.smoking_status == \"formerly smoked\"].sum()/df[df.smoking_status == \"formerly smoked\"].stroke.count())\n",
    "print(\"never smoked: \", df.stroke[df.smoking_status == \"never smoked\"].sum()/df[df.smoking_status == \"never smoked\"].stroke.count())\n",
    "print(\"smokes: \", df.stroke[df.smoking_status == \"smokes\"].sum()/df[df.smoking_status == \"smokes\"].stroke.count())"
   ]
  },
  {
   "cell_type": "markdown",
   "metadata": {},
   "source": [
    "we can see that the highest number of those who had stroke are patients who never smoked, but they are also the hightest portion of the patients.\n",
    "The precentage of the patients who never smoked and had a stroke is lower than those who formerly smoked and the smokers who had a stroke.\n",
    "\n",
    "The conclusion is that there is a correlation between smoking and having a stroke, but it is not significant and we also have a lot of patiants that their smoking status is unknown, so it is hard to get to an unambiguous conclusion."
   ]
  },
  {
   "cell_type": "markdown",
   "metadata": {},
   "source": [
    "## 2.4 precentage smoking and gender"
   ]
  },
  {
   "cell_type": "code",
   "execution_count": 24,
   "metadata": {},
   "outputs": [
    {
     "data": {
      "text/html": [
       "<style  type=\"text/css\" >\n",
       "    #T_66c8596b_6ac7_11eb_8dba_4a5f9919a539row0_col0 {\n",
       "            background-color:  #79bc66;\n",
       "            color:  #000000;\n",
       "        }    #T_66c8596b_6ac7_11eb_8dba_4a5f9919a539row0_col1 {\n",
       "            background-color:  #7fbf66;\n",
       "            color:  #000000;\n",
       "        }    #T_66c8596b_6ac7_11eb_8dba_4a5f9919a539row0_col2 {\n",
       "            background-color:  #62b066;\n",
       "            color:  #000000;\n",
       "        }    #T_66c8596b_6ac7_11eb_8dba_4a5f9919a539row0_col3 {\n",
       "            background-color:  #73b966;\n",
       "            color:  #000000;\n",
       "        }    #T_66c8596b_6ac7_11eb_8dba_4a5f9919a539row0_col4 {\n",
       "            background-color:  #71b866;\n",
       "            color:  #000000;\n",
       "        }    #T_66c8596b_6ac7_11eb_8dba_4a5f9919a539row1_col0 {\n",
       "            background-color:  #fbfd66;\n",
       "            color:  #000000;\n",
       "        }    #T_66c8596b_6ac7_11eb_8dba_4a5f9919a539row1_col1 {\n",
       "            background-color:  #f6fa66;\n",
       "            color:  #000000;\n",
       "        }    #T_66c8596b_6ac7_11eb_8dba_4a5f9919a539row1_col2 {\n",
       "            background-color:  #f7fb66;\n",
       "            color:  #000000;\n",
       "        }    #T_66c8596b_6ac7_11eb_8dba_4a5f9919a539row1_col3 {\n",
       "            background-color:  #f9fc66;\n",
       "            color:  #000000;\n",
       "        }    #T_66c8596b_6ac7_11eb_8dba_4a5f9919a539row1_col4 {\n",
       "            background-color:  #f8fc66;\n",
       "            color:  #000000;\n",
       "        }    #T_66c8596b_6ac7_11eb_8dba_4a5f9919a539row2_col0 {\n",
       "            background-color:  #8ec666;\n",
       "            color:  #000000;\n",
       "        }    #T_66c8596b_6ac7_11eb_8dba_4a5f9919a539row2_col1 {\n",
       "            background-color:  #94ca66;\n",
       "            color:  #000000;\n",
       "        }    #T_66c8596b_6ac7_11eb_8dba_4a5f9919a539row2_col2 {\n",
       "            background-color:  #a9d466;\n",
       "            color:  #000000;\n",
       "        }    #T_66c8596b_6ac7_11eb_8dba_4a5f9919a539row2_col3 {\n",
       "            background-color:  #9acc66;\n",
       "            color:  #000000;\n",
       "        }    #T_66c8596b_6ac7_11eb_8dba_4a5f9919a539row2_col4 {\n",
       "            background-color:  #9bcd66;\n",
       "            color:  #000000;\n",
       "        }    #T_66c8596b_6ac7_11eb_8dba_4a5f9919a539row3_col0 {\n",
       "            background-color:  #fcfe66;\n",
       "            color:  #000000;\n",
       "        }    #T_66c8596b_6ac7_11eb_8dba_4a5f9919a539row3_col1 {\n",
       "            background-color:  #f5fa66;\n",
       "            color:  #000000;\n",
       "        }    #T_66c8596b_6ac7_11eb_8dba_4a5f9919a539row3_col2 {\n",
       "            background-color:  #fcfe66;\n",
       "            color:  #000000;\n",
       "        }    #T_66c8596b_6ac7_11eb_8dba_4a5f9919a539row3_col3 {\n",
       "            background-color:  #f8fc66;\n",
       "            color:  #000000;\n",
       "        }    #T_66c8596b_6ac7_11eb_8dba_4a5f9919a539row3_col4 {\n",
       "            background-color:  #fafc66;\n",
       "            color:  #000000;\n",
       "        }    #T_66c8596b_6ac7_11eb_8dba_4a5f9919a539row4_col0 {\n",
       "            background-color:  #ffff66;\n",
       "            color:  #000000;\n",
       "        }    #T_66c8596b_6ac7_11eb_8dba_4a5f9919a539row4_col1 {\n",
       "            background-color:  #ffff66;\n",
       "            color:  #000000;\n",
       "        }    #T_66c8596b_6ac7_11eb_8dba_4a5f9919a539row4_col2 {\n",
       "            background-color:  #ffff66;\n",
       "            color:  #000000;\n",
       "        }    #T_66c8596b_6ac7_11eb_8dba_4a5f9919a539row4_col3 {\n",
       "            background-color:  #ffff66;\n",
       "            color:  #000000;\n",
       "        }    #T_66c8596b_6ac7_11eb_8dba_4a5f9919a539row4_col4 {\n",
       "            background-color:  #ffff66;\n",
       "            color:  #000000;\n",
       "        }    #T_66c8596b_6ac7_11eb_8dba_4a5f9919a539row5_col0 {\n",
       "            background-color:  #008066;\n",
       "            color:  #f1f1f1;\n",
       "        }    #T_66c8596b_6ac7_11eb_8dba_4a5f9919a539row5_col1 {\n",
       "            background-color:  #008066;\n",
       "            color:  #f1f1f1;\n",
       "        }    #T_66c8596b_6ac7_11eb_8dba_4a5f9919a539row5_col2 {\n",
       "            background-color:  #008066;\n",
       "            color:  #f1f1f1;\n",
       "        }    #T_66c8596b_6ac7_11eb_8dba_4a5f9919a539row5_col3 {\n",
       "            background-color:  #008066;\n",
       "            color:  #f1f1f1;\n",
       "        }    #T_66c8596b_6ac7_11eb_8dba_4a5f9919a539row5_col4 {\n",
       "            background-color:  #008066;\n",
       "            color:  #f1f1f1;\n",
       "        }</style><table id=\"T_66c8596b_6ac7_11eb_8dba_4a5f9919a539\" ><thead>    <tr>        <th class=\"blank\" ></th>        <th class=\"index_name level0\" >smoking_status</th>        <th class=\"col_heading level0 col0\" >Unknown</th>        <th class=\"col_heading level0 col1\" >formerly smoked</th>        <th class=\"col_heading level0 col2\" >never smoked</th>        <th class=\"col_heading level0 col3\" >smokes</th>        <th class=\"col_heading level0 col4\" >All</th>    </tr>    <tr>        <th class=\"index_name level0\" >gender</th>        <th class=\"index_name level1\" >stroke</th>        <th class=\"blank\" ></th>        <th class=\"blank\" ></th>        <th class=\"blank\" ></th>        <th class=\"blank\" ></th>        <th class=\"blank\" ></th>    </tr></thead><tbody>\n",
       "                <tr>\n",
       "                        <th id=\"T_66c8596b_6ac7_11eb_8dba_4a5f9919a539level0_row0\" class=\"row_heading level0 row0\" rowspan=2>Female</th>\n",
       "                        <th id=\"T_66c8596b_6ac7_11eb_8dba_4a5f9919a539level1_row0\" class=\"row_heading level1 row0\" >0</th>\n",
       "                        <td id=\"T_66c8596b_6ac7_11eb_8dba_4a5f9919a539row0_col0\" class=\"data row0 col0\" >811</td>\n",
       "                        <td id=\"T_66c8596b_6ac7_11eb_8dba_4a5f9919a539row0_col1\" class=\"data row0 col1\" >443</td>\n",
       "                        <td id=\"T_66c8596b_6ac7_11eb_8dba_4a5f9919a539row0_col2\" class=\"data row0 col2\" >1166</td>\n",
       "                        <td id=\"T_66c8596b_6ac7_11eb_8dba_4a5f9919a539row0_col3\" class=\"data row0 col3\" >433</td>\n",
       "                        <td id=\"T_66c8596b_6ac7_11eb_8dba_4a5f9919a539row0_col4\" class=\"data row0 col4\" >2853</td>\n",
       "            </tr>\n",
       "            <tr>\n",
       "                                <th id=\"T_66c8596b_6ac7_11eb_8dba_4a5f9919a539level1_row1\" class=\"row_heading level1 row1\" >1</th>\n",
       "                        <td id=\"T_66c8596b_6ac7_11eb_8dba_4a5f9919a539row1_col0\" class=\"data row1 col0\" >25</td>\n",
       "                        <td id=\"T_66c8596b_6ac7_11eb_8dba_4a5f9919a539row1_col1\" class=\"data row1 col1\" >34</td>\n",
       "                        <td id=\"T_66c8596b_6ac7_11eb_8dba_4a5f9919a539row1_col2\" class=\"data row1 col2\" >63</td>\n",
       "                        <td id=\"T_66c8596b_6ac7_11eb_8dba_4a5f9919a539row1_col3\" class=\"data row1 col3\" >19</td>\n",
       "                        <td id=\"T_66c8596b_6ac7_11eb_8dba_4a5f9919a539row1_col4\" class=\"data row1 col4\" >141</td>\n",
       "            </tr>\n",
       "            <tr>\n",
       "                        <th id=\"T_66c8596b_6ac7_11eb_8dba_4a5f9919a539level0_row2\" class=\"row_heading level0 row2\" rowspan=2>Male</th>\n",
       "                        <th id=\"T_66c8596b_6ac7_11eb_8dba_4a5f9919a539level1_row2\" class=\"row_heading level1 row2\" >0</th>\n",
       "                        <td id=\"T_66c8596b_6ac7_11eb_8dba_4a5f9919a539row2_col0\" class=\"data row2 col0\" >686</td>\n",
       "                        <td id=\"T_66c8596b_6ac7_11eb_8dba_4a5f9919a539row2_col1\" class=\"data row2 col1\" >371</td>\n",
       "                        <td id=\"T_66c8596b_6ac7_11eb_8dba_4a5f9919a539row2_col2\" class=\"data row2 col2\" >636</td>\n",
       "                        <td id=\"T_66c8596b_6ac7_11eb_8dba_4a5f9919a539row2_col3\" class=\"data row2 col3\" >314</td>\n",
       "                        <td id=\"T_66c8596b_6ac7_11eb_8dba_4a5f9919a539row2_col4\" class=\"data row2 col4\" >2007</td>\n",
       "            </tr>\n",
       "            <tr>\n",
       "                                <th id=\"T_66c8596b_6ac7_11eb_8dba_4a5f9919a539level1_row3\" class=\"row_heading level1 row3\" >1</th>\n",
       "                        <td id=\"T_66c8596b_6ac7_11eb_8dba_4a5f9919a539row3_col0\" class=\"data row3 col0\" >22</td>\n",
       "                        <td id=\"T_66c8596b_6ac7_11eb_8dba_4a5f9919a539row3_col1\" class=\"data row3 col1\" >36</td>\n",
       "                        <td id=\"T_66c8596b_6ac7_11eb_8dba_4a5f9919a539row3_col2\" class=\"data row3 col2\" >27</td>\n",
       "                        <td id=\"T_66c8596b_6ac7_11eb_8dba_4a5f9919a539row3_col3\" class=\"data row3 col3\" >23</td>\n",
       "                        <td id=\"T_66c8596b_6ac7_11eb_8dba_4a5f9919a539row3_col4\" class=\"data row3 col4\" >108</td>\n",
       "            </tr>\n",
       "            <tr>\n",
       "                        <th id=\"T_66c8596b_6ac7_11eb_8dba_4a5f9919a539level0_row4\" class=\"row_heading level0 row4\" >Other</th>\n",
       "                        <th id=\"T_66c8596b_6ac7_11eb_8dba_4a5f9919a539level1_row4\" class=\"row_heading level1 row4\" >0</th>\n",
       "                        <td id=\"T_66c8596b_6ac7_11eb_8dba_4a5f9919a539row4_col0\" class=\"data row4 col0\" >0</td>\n",
       "                        <td id=\"T_66c8596b_6ac7_11eb_8dba_4a5f9919a539row4_col1\" class=\"data row4 col1\" >1</td>\n",
       "                        <td id=\"T_66c8596b_6ac7_11eb_8dba_4a5f9919a539row4_col2\" class=\"data row4 col2\" >0</td>\n",
       "                        <td id=\"T_66c8596b_6ac7_11eb_8dba_4a5f9919a539row4_col3\" class=\"data row4 col3\" >0</td>\n",
       "                        <td id=\"T_66c8596b_6ac7_11eb_8dba_4a5f9919a539row4_col4\" class=\"data row4 col4\" >1</td>\n",
       "            </tr>\n",
       "            <tr>\n",
       "                        <th id=\"T_66c8596b_6ac7_11eb_8dba_4a5f9919a539level0_row5\" class=\"row_heading level0 row5\" >All</th>\n",
       "                        <th id=\"T_66c8596b_6ac7_11eb_8dba_4a5f9919a539level1_row5\" class=\"row_heading level1 row5\" ></th>\n",
       "                        <td id=\"T_66c8596b_6ac7_11eb_8dba_4a5f9919a539row5_col0\" class=\"data row5 col0\" >1544</td>\n",
       "                        <td id=\"T_66c8596b_6ac7_11eb_8dba_4a5f9919a539row5_col1\" class=\"data row5 col1\" >885</td>\n",
       "                        <td id=\"T_66c8596b_6ac7_11eb_8dba_4a5f9919a539row5_col2\" class=\"data row5 col2\" >1892</td>\n",
       "                        <td id=\"T_66c8596b_6ac7_11eb_8dba_4a5f9919a539row5_col3\" class=\"data row5 col3\" >789</td>\n",
       "                        <td id=\"T_66c8596b_6ac7_11eb_8dba_4a5f9919a539row5_col4\" class=\"data row5 col4\" >5110</td>\n",
       "            </tr>\n",
       "    </tbody></table>"
      ],
      "text/plain": [
       "<pandas.io.formats.style.Styler at 0x25e8797b8b0>"
      ]
     },
     "execution_count": 24,
     "metadata": {},
     "output_type": "execute_result"
    }
   ],
   "source": [
    "pd.crosstab([df.gender,df.stroke],df.smoking_status,margins=True).style.background_gradient(cmap='summer_r')"
   ]
  },
  {
   "cell_type": "code",
   "execution_count": 25,
   "metadata": {},
   "outputs": [
    {
     "name": "stderr",
     "output_type": "stream",
     "text": [
      "C:\\Users\\ronrn\\anaconda3\\lib\\site-packages\\seaborn\\categorical.py:3666: UserWarning: The `factorplot` function has been renamed to `catplot`. The original name will be removed in a future release. Please update your code. Note that the default `kind` in `factorplot` (`'point'`) has changed `'strip'` in `catplot`.\n",
      "  warnings.warn(msg)\n"
     ]
    },
    {
     "data": {
      "text/plain": [
       "<seaborn.axisgrid.FacetGrid at 0x25e877760a0>"
      ]
     },
     "execution_count": 25,
     "metadata": {},
     "output_type": "execute_result"
    },
    {
     "data": {
      "image/png": "[encoded data removed]",
      "text/plain": [
       "<Figure size 436.35x360 with 1 Axes>"
      ]
     },
     "metadata": {
      "needs_background": "light"
     },
     "output_type": "display_data"
    }
   ],
   "source": [
    "sns.factorplot('smoking_status', 'stroke', hue='gender', data=df)"
   ]
  },
  {
   "cell_type": "markdown",
   "metadata": {},
   "source": [
    "We can see that in general the smokes and the formerly smoked have higher chance to get a stroke, but it is more significant with males.\n",
    "Women seems to have more equal distribution by smoking status than man - the precentage of men who smokes or formerly smoked and had a stroke is almost twice more than those who never smoked.\n",
    "But the precentage of women who smokes or formerly smoked and had a stroke is just slightly higher than those who never smoked."
   ]
  },
  {
   "cell_type": "markdown",
   "metadata": {},
   "source": [
    "## 2.5 stroke and residence type "
   ]
  },
  {
   "cell_type": "code",
   "execution_count": 26,
   "metadata": {},
   "outputs": [
    {
     "data": {
      "text/plain": [
       "<matplotlib.axes._subplots.AxesSubplot at 0x25e883fdd60>"
      ]
     },
     "execution_count": 26,
     "metadata": {},
     "output_type": "execute_result"
    },
    {
     "data": {
      "image/png": "[encoded data removed]",
      "text/plain": [
       "<Figure size 432x288 with 1 Axes>"
      ]
     },
     "metadata": {
      "needs_background": "light"
     },
     "output_type": "display_data"
    }
   ],
   "source": [
    "sns.countplot(\"Residence_type\",hue=\"stroke\",data=df)"
   ]
  },
  {
   "cell_type": "code",
   "execution_count": 27,
   "metadata": {},
   "outputs": [
    {
     "data": {
      "text/plain": [
       "Text(0, 0.5, 'precentage')"
      ]
     },
     "execution_count": 27,
     "metadata": {},
     "output_type": "execute_result"
    },
    {
     "data": {
      "image/png": "[encoded data removed]",
      "text/plain": [
       "<Figure size 432x288 with 1 Axes>"
      ]
     },
     "metadata": {
      "needs_background": "light"
     },
     "output_type": "display_data"
    }
   ],
   "source": [
    "df['stroke'].groupby(df['Residence_type']).mean().plot(kind='bar',color=list('rgbkymc'))\n",
    "plt.title(\"stroke by residence type\")\n",
    "plt.ylabel(\"precentage\")"
   ]
  },
  {
   "cell_type": "code",
   "execution_count": 28,
   "metadata": {},
   "outputs": [
    {
     "data": {
      "text/html": [
       "<style  type=\"text/css\" >\n",
       "    #T_69a955b6_6ac7_11eb_8e65_4a5f9919a539row0_col0 {\n",
       "            background-color:  #ffff00;\n",
       "            color:  #000000;\n",
       "        }    #T_69a955b6_6ac7_11eb_8e65_4a5f9919a539row0_col1 {\n",
       "            background-color:  #ffff00;\n",
       "            color:  #000000;\n",
       "        }    #T_69a955b6_6ac7_11eb_8e65_4a5f9919a539row0_col2 {\n",
       "            background-color:  #ffff00;\n",
       "            color:  #000000;\n",
       "        }    #T_69a955b6_6ac7_11eb_8e65_4a5f9919a539row1_col0 {\n",
       "            background-color:  #fff900;\n",
       "            color:  #000000;\n",
       "        }    #T_69a955b6_6ac7_11eb_8e65_4a5f9919a539row1_col1 {\n",
       "            background-color:  #ffd800;\n",
       "            color:  #000000;\n",
       "        }    #T_69a955b6_6ac7_11eb_8e65_4a5f9919a539row1_col2 {\n",
       "            background-color:  #fff700;\n",
       "            color:  #000000;\n",
       "        }    #T_69a955b6_6ac7_11eb_8e65_4a5f9919a539row2_col0 {\n",
       "            background-color:  #ff0000;\n",
       "            color:  #f1f1f1;\n",
       "        }    #T_69a955b6_6ac7_11eb_8e65_4a5f9919a539row2_col1 {\n",
       "            background-color:  #ff0000;\n",
       "            color:  #f1f1f1;\n",
       "        }    #T_69a955b6_6ac7_11eb_8e65_4a5f9919a539row2_col2 {\n",
       "            background-color:  #ff0000;\n",
       "            color:  #f1f1f1;\n",
       "        }</style><table id=\"T_69a955b6_6ac7_11eb_8e65_4a5f9919a539\" ><thead>    <tr>        <th class=\"index_name level0\" >stroke</th>        <th class=\"col_heading level0 col0\" >0</th>        <th class=\"col_heading level0 col1\" >1</th>        <th class=\"col_heading level0 col2\" >All</th>    </tr>    <tr>        <th class=\"index_name level0\" >Residence_type</th>        <th class=\"blank\" ></th>        <th class=\"blank\" ></th>        <th class=\"blank\" ></th>    </tr></thead><tbody>\n",
       "                <tr>\n",
       "                        <th id=\"T_69a955b6_6ac7_11eb_8e65_4a5f9919a539level0_row0\" class=\"row_heading level0 row0\" >Rural</th>\n",
       "                        <td id=\"T_69a955b6_6ac7_11eb_8e65_4a5f9919a539row0_col0\" class=\"data row0 col0\" >2400</td>\n",
       "                        <td id=\"T_69a955b6_6ac7_11eb_8e65_4a5f9919a539row0_col1\" class=\"data row0 col1\" >114</td>\n",
       "                        <td id=\"T_69a955b6_6ac7_11eb_8e65_4a5f9919a539row0_col2\" class=\"data row0 col2\" >2514</td>\n",
       "            </tr>\n",
       "            <tr>\n",
       "                        <th id=\"T_69a955b6_6ac7_11eb_8e65_4a5f9919a539level0_row1\" class=\"row_heading level0 row1\" >Urban</th>\n",
       "                        <td id=\"T_69a955b6_6ac7_11eb_8e65_4a5f9919a539row1_col0\" class=\"data row1 col0\" >2461</td>\n",
       "                        <td id=\"T_69a955b6_6ac7_11eb_8e65_4a5f9919a539row1_col1\" class=\"data row1 col1\" >135</td>\n",
       "                        <td id=\"T_69a955b6_6ac7_11eb_8e65_4a5f9919a539row1_col2\" class=\"data row1 col2\" >2596</td>\n",
       "            </tr>\n",
       "            <tr>\n",
       "                        <th id=\"T_69a955b6_6ac7_11eb_8e65_4a5f9919a539level0_row2\" class=\"row_heading level0 row2\" >All</th>\n",
       "                        <td id=\"T_69a955b6_6ac7_11eb_8e65_4a5f9919a539row2_col0\" class=\"data row2 col0\" >4861</td>\n",
       "                        <td id=\"T_69a955b6_6ac7_11eb_8e65_4a5f9919a539row2_col1\" class=\"data row2 col1\" >249</td>\n",
       "                        <td id=\"T_69a955b6_6ac7_11eb_8e65_4a5f9919a539row2_col2\" class=\"data row2 col2\" >5110</td>\n",
       "            </tr>\n",
       "    </tbody></table>"
      ],
      "text/plain": [
       "<pandas.io.formats.style.Styler at 0x25e87817130>"
      ]
     },
     "execution_count": 28,
     "metadata": {},
     "output_type": "execute_result"
    }
   ],
   "source": [
    "pd.crosstab(df.Residence_type, df.stroke, margins=True).style.background_gradient(cmap='autumn_r')"
   ]
  },
  {
   "cell_type": "markdown",
   "metadata": {},
   "source": [
    "We see that there is slightly higher precentage of urban residents who had stroke than the rural residents - out of the urban residents around 5% had a stroke, and out of the rural residents around 4.5% had a stroke.\n",
    "Because it is not a significant difference, we can conclude that the residence type is not very important to predict a stroke."
   ]
  },
  {
   "cell_type": "markdown",
   "metadata": {},
   "source": [
    "## 2.6 stroke and marriage"
   ]
  },
  {
   "cell_type": "code",
   "execution_count": 29,
   "metadata": {},
   "outputs": [
    {
     "data": {
      "text/html": [
       "<style  type=\"text/css\" >\n",
       "    #T_6aafcedd_6ac7_11eb_acf7_4a5f9919a539row0_col0 {\n",
       "            background-color:  #ffff66;\n",
       "            color:  #000000;\n",
       "        }    #T_6aafcedd_6ac7_11eb_acf7_4a5f9919a539row0_col1 {\n",
       "            background-color:  #ffff66;\n",
       "            color:  #000000;\n",
       "        }    #T_6aafcedd_6ac7_11eb_acf7_4a5f9919a539row1_col0 {\n",
       "            background-color:  #008066;\n",
       "            color:  #f1f1f1;\n",
       "        }    #T_6aafcedd_6ac7_11eb_acf7_4a5f9919a539row1_col1 {\n",
       "            background-color:  #008066;\n",
       "            color:  #f1f1f1;\n",
       "        }</style><table id=\"T_6aafcedd_6ac7_11eb_acf7_4a5f9919a539\" ><thead>    <tr>        <th class=\"index_name level0\" >stroke</th>        <th class=\"col_heading level0 col0\" >0</th>        <th class=\"col_heading level0 col1\" >1</th>    </tr>    <tr>        <th class=\"index_name level0\" >ever_married</th>        <th class=\"blank\" ></th>        <th class=\"blank\" ></th>    </tr></thead><tbody>\n",
       "                <tr>\n",
       "                        <th id=\"T_6aafcedd_6ac7_11eb_acf7_4a5f9919a539level0_row0\" class=\"row_heading level0 row0\" >No</th>\n",
       "                        <td id=\"T_6aafcedd_6ac7_11eb_acf7_4a5f9919a539row0_col0\" class=\"data row0 col0\" >1728</td>\n",
       "                        <td id=\"T_6aafcedd_6ac7_11eb_acf7_4a5f9919a539row0_col1\" class=\"data row0 col1\" >29</td>\n",
       "            </tr>\n",
       "            <tr>\n",
       "                        <th id=\"T_6aafcedd_6ac7_11eb_acf7_4a5f9919a539level0_row1\" class=\"row_heading level0 row1\" >Yes</th>\n",
       "                        <td id=\"T_6aafcedd_6ac7_11eb_acf7_4a5f9919a539row1_col0\" class=\"data row1 col0\" >3133</td>\n",
       "                        <td id=\"T_6aafcedd_6ac7_11eb_acf7_4a5f9919a539row1_col1\" class=\"data row1 col1\" >220</td>\n",
       "            </tr>\n",
       "    </tbody></table>"
      ],
      "text/plain": [
       "<pandas.io.formats.style.Styler at 0x25e87927f10>"
      ]
     },
     "execution_count": 29,
     "metadata": {},
     "output_type": "execute_result"
    }
   ],
   "source": [
    "pd.crosstab(df.ever_married,df.stroke).style.background_gradient('summer_r')"
   ]
  },
  {
   "cell_type": "code",
   "execution_count": 30,
   "metadata": {},
   "outputs": [
    {
     "data": {
      "text/plain": [
       "Text(0.5, 0, 'married')"
      ]
     },
     "execution_count": 30,
     "metadata": {},
     "output_type": "execute_result"
    },
    {
     "data": {
      "image/png": "[encoded data removed]",
      "text/plain": [
       "<Figure size 432x288 with 1 Axes>"
      ]
     },
     "metadata": {
      "needs_background": "light"
     },
     "output_type": "display_data"
    }
   ],
   "source": [
    "sns.barplot('ever_married','stroke', data=df)\n",
    "plt.title(\"marriage and stroke\")\n",
    "plt.xlabel(\"married\")"
   ]
  },
  {
   "cell_type": "markdown",
   "metadata": {},
   "source": [
    "We can see a significant correlation between the marriage status and the stroke probability.\n",
    "out of the non married - only around 1.5% had a stroke, but out of the married - around 6.5% had a stroke.\n",
    "\n",
    "Although there is a significant differance between the two groups - we can assume that the age is also a factor here - the data include a portion of patients who are children (and hence they are not married), and we already know that young people have very small chance to get a stroke.\n",
    "\n",
    "So we can conclude that the marriage is important but the age factor also should be considered."
   ]
  },
  {
   "cell_type": "markdown",
   "metadata": {},
   "source": [
    "## 2.7 stroke and marriage, age"
   ]
  },
  {
   "cell_type": "code",
   "execution_count": 31,
   "metadata": {},
   "outputs": [
    {
     "data": {
      "text/plain": [
       "<seaborn.axisgrid.FacetGrid at 0x25e87e14e50>"
      ]
     },
     "execution_count": 31,
     "metadata": {},
     "output_type": "execute_result"
    },
    {
     "data": {
      "image/png": "[encoded data removed]",
      "text/plain": [
       "<Figure size 1159.55x216 with 1 Axes>"
      ]
     },
     "metadata": {
      "needs_background": "light"
     },
     "output_type": "display_data"
    }
   ],
   "source": [
    "sns.catplot(x='age', y='stroke', hue='ever_married', kind='point', data=df, height=3, aspect=5, ci=0)"
   ]
  },
  {
   "cell_type": "markdown",
   "metadata": {},
   "source": [
    "We can see that as long as the patient is older, he has a bigger chance to get a stroke, regardless if he is married or not.\n",
    "We can even see that the old and non married patients have a little more chance to have a stroke that the old and married.\n",
    "\n",
    "So the conclution is that the fact that there are more precentage of married patients who had stroke, is because the married patients are older than the non married. Hence the age is a significant factor if we check the marriage influance on stroke."
   ]
  },
  {
   "cell_type": "markdown",
   "metadata": {},
   "source": [
    "## EDA Conclusion"
   ]
  },
  {
   "cell_type": "markdown",
   "metadata": {},
   "source": [
    "The conclusion is that among the different parameters we checked - the age of the patient is the most important thing that can predict his or her chance to get a stroke - as long as the patient is older, the chances to get a stroke are rising.\n",
    "\n",
    "There are also some other parameters that can predict a stroke, but they are less significant:\n",
    "1. male have more chances to get a stroke than female.\n",
    "2. urban residents have more chances to get a stroke than rural residents.\n",
    "3. smokers or formerly smokers have more chances to get a stroke than non smokers.\n",
    "4. married people have more chances to get a stroke than non married people."
   ]
  },
  {
   "cell_type": "markdown",
   "metadata": {},
   "source": [
    "# 3 feature engineering"
   ]
  },
  {
   "cell_type": "markdown",
   "metadata": {},
   "source": [
    "## 3.1 underlying conditions"
   ]
  },
  {
   "cell_type": "code",
   "execution_count": 32,
   "metadata": {},
   "outputs": [
    {
     "data": {
      "text/html": [
       "<div>\n",
       "<style scoped>\n",
       "    .dataframe tbody tr th:only-of-type {\n",
       "        vertical-align: middle;\n",
       "    }\n",
       "\n",
       "    .dataframe tbody tr th {\n",
       "        vertical-align: top;\n",
       "    }\n",
       "\n",
       "    .dataframe thead th {\n",
       "        text-align: right;\n",
       "    }\n",
       "</style>\n",
       "<table border=\"1\" class=\"dataframe\">\n",
       "  <thead>\n",
       "    <tr style=\"text-align: right;\">\n",
       "      <th></th>\n",
       "      <th>gender</th>\n",
       "      <th>age</th>\n",
       "      <th>hypertension</th>\n",
       "      <th>heart_disease</th>\n",
       "      <th>ever_married</th>\n",
       "      <th>work_type</th>\n",
       "      <th>Residence_type</th>\n",
       "      <th>avg_glucose_level</th>\n",
       "      <th>bmi</th>\n",
       "      <th>smoking_status</th>\n",
       "      <th>stroke</th>\n",
       "      <th>bmi_available</th>\n",
       "      <th>underlying_conditions</th>\n",
       "    </tr>\n",
       "  </thead>\n",
       "  <tbody>\n",
       "    <tr>\n",
       "      <th>0</th>\n",
       "      <td>Female</td>\n",
       "      <td>17.0</td>\n",
       "      <td>0</td>\n",
       "      <td>0</td>\n",
       "      <td>No</td>\n",
       "      <td>Private</td>\n",
       "      <td>Urban</td>\n",
       "      <td>92.97</td>\n",
       "      <td>28.893237</td>\n",
       "      <td>formerly smoked</td>\n",
       "      <td>0</td>\n",
       "      <td>False</td>\n",
       "      <td>0</td>\n",
       "    </tr>\n",
       "    <tr>\n",
       "      <th>1</th>\n",
       "      <td>Female</td>\n",
       "      <td>13.0</td>\n",
       "      <td>0</td>\n",
       "      <td>0</td>\n",
       "      <td>No</td>\n",
       "      <td>children</td>\n",
       "      <td>Rural</td>\n",
       "      <td>85.81</td>\n",
       "      <td>18.600000</td>\n",
       "      <td>Unknown</td>\n",
       "      <td>0</td>\n",
       "      <td>True</td>\n",
       "      <td>0</td>\n",
       "    </tr>\n",
       "  </tbody>\n",
       "</table>\n",
       "</div>"
      ],
      "text/plain": [
       "   gender   age  hypertension  heart_disease ever_married work_type  \\\n",
       "0  Female  17.0             0              0           No   Private   \n",
       "1  Female  13.0             0              0           No  children   \n",
       "\n",
       "  Residence_type  avg_glucose_level        bmi   smoking_status  stroke  \\\n",
       "0          Urban              92.97  28.893237  formerly smoked       0   \n",
       "1          Rural              85.81  18.600000          Unknown       0   \n",
       "\n",
       "   bmi_available  underlying_conditions  \n",
       "0          False                      0  \n",
       "1           True                      0  "
      ]
     },
     "execution_count": 32,
     "metadata": {},
     "output_type": "execute_result"
    }
   ],
   "source": [
    "df[\"underlying_conditions\"] = df[\"hypertension\"] + df[\"heart_disease\"]\n",
    "df.head(2)"
   ]
  },
  {
   "cell_type": "code",
   "execution_count": 33,
   "metadata": {},
   "outputs": [
    {
     "data": {
      "text/plain": [
       "Text(0.5, 0, 'underlying conditions')"
      ]
     },
     "execution_count": 33,
     "metadata": {},
     "output_type": "execute_result"
    },
    {
     "data": {
      "image/png": "[encoded data removed]",
      "text/plain": [
       "<Figure size 648x432 with 1 Axes>"
      ]
     },
     "metadata": {
      "needs_background": "light"
     },
     "output_type": "display_data"
    }
   ],
   "source": [
    "#visualization of patients who had stroke by underlying conditions\n",
    "plt.figure(figsize=(9,6))\n",
    "fig = df.stroke.groupby(df.underlying_conditions).mean().plot(kind=\"bar\", color=list(\"rgb\"))\n",
    "plt.title(\"stroke by underlying conditions\")\n",
    "plt.ylabel(\"precentage\")\n",
    "plt.xlabel(\"underlying conditions\")"
   ]
  },
  {
   "cell_type": "markdown",
   "metadata": {},
   "source": [
    "We see a significant difference between people without underlying conditions and people with underlying conditions - as long as the patient has more underlying conditions he has more chance to get a stroke.\n",
    "\n",
    "Those who have 2 underlying conditions (hypertension and heart disease) - are with 20% chance to get a stroke.\n",
    "Those who have 1 underlying condition (either hypertension or heart disease) - are with 13% to get a stroke.\n",
    "Those who have no underlying condition - are with only 3% to get a stroke.\n",
    "\n",
    "The conclusion - underlying conditions are very important to predict a stroke."
   ]
  },
  {
   "cell_type": "markdown",
   "metadata": {},
   "source": [
    "## 3.2 type of employment"
   ]
  },
  {
   "cell_type": "code",
   "execution_count": 34,
   "metadata": {},
   "outputs": [
    {
     "data": {
      "text/html": [
       "<div>\n",
       "<style scoped>\n",
       "    .dataframe tbody tr th:only-of-type {\n",
       "        vertical-align: middle;\n",
       "    }\n",
       "\n",
       "    .dataframe tbody tr th {\n",
       "        vertical-align: top;\n",
       "    }\n",
       "\n",
       "    .dataframe thead th {\n",
       "        text-align: right;\n",
       "    }\n",
       "</style>\n",
       "<table border=\"1\" class=\"dataframe\">\n",
       "  <thead>\n",
       "    <tr style=\"text-align: right;\">\n",
       "      <th></th>\n",
       "      <th>gender</th>\n",
       "      <th>age</th>\n",
       "      <th>hypertension</th>\n",
       "      <th>heart_disease</th>\n",
       "      <th>ever_married</th>\n",
       "      <th>work_type</th>\n",
       "      <th>Residence_type</th>\n",
       "      <th>avg_glucose_level</th>\n",
       "      <th>bmi</th>\n",
       "      <th>smoking_status</th>\n",
       "      <th>stroke</th>\n",
       "      <th>bmi_available</th>\n",
       "      <th>underlying_conditions</th>\n",
       "      <th>type_of_employment</th>\n",
       "    </tr>\n",
       "  </thead>\n",
       "  <tbody>\n",
       "    <tr>\n",
       "      <th>0</th>\n",
       "      <td>Female</td>\n",
       "      <td>17.0</td>\n",
       "      <td>0</td>\n",
       "      <td>0</td>\n",
       "      <td>No</td>\n",
       "      <td>Private</td>\n",
       "      <td>Urban</td>\n",
       "      <td>92.97</td>\n",
       "      <td>28.893237</td>\n",
       "      <td>formerly smoked</td>\n",
       "      <td>0</td>\n",
       "      <td>False</td>\n",
       "      <td>0</td>\n",
       "      <td>salaried employee</td>\n",
       "    </tr>\n",
       "    <tr>\n",
       "      <th>1</th>\n",
       "      <td>Female</td>\n",
       "      <td>13.0</td>\n",
       "      <td>0</td>\n",
       "      <td>0</td>\n",
       "      <td>No</td>\n",
       "      <td>children</td>\n",
       "      <td>Rural</td>\n",
       "      <td>85.81</td>\n",
       "      <td>18.600000</td>\n",
       "      <td>Unknown</td>\n",
       "      <td>0</td>\n",
       "      <td>True</td>\n",
       "      <td>0</td>\n",
       "      <td>NaN</td>\n",
       "    </tr>\n",
       "  </tbody>\n",
       "</table>\n",
       "</div>"
      ],
      "text/plain": [
       "   gender   age  hypertension  heart_disease ever_married work_type  \\\n",
       "0  Female  17.0             0              0           No   Private   \n",
       "1  Female  13.0             0              0           No  children   \n",
       "\n",
       "  Residence_type  avg_glucose_level        bmi   smoking_status  stroke  \\\n",
       "0          Urban              92.97  28.893237  formerly smoked       0   \n",
       "1          Rural              85.81  18.600000          Unknown       0   \n",
       "\n",
       "   bmi_available  underlying_conditions type_of_employment  \n",
       "0          False                      0  salaried employee  \n",
       "1           True                      0                NaN  "
      ]
     },
     "execution_count": 34,
     "metadata": {},
     "output_type": "execute_result"
    }
   ],
   "source": [
    "type_map={\"Govt_job\":\"salaried employee\",\n",
    "         \"Private\":\"salaried employee\",\n",
    "         \"Self-employed\":\"self employeed\"}\n",
    "\n",
    "df[\"type_of_employment\"] = df[\"work_type\"].map(type_map)\n",
    "df.head(2)"
   ]
  },
  {
   "cell_type": "code",
   "execution_count": 35,
   "metadata": {},
   "outputs": [
    {
     "data": {
      "text/plain": [
       "Text(0.5, 0, 'type of employment')"
      ]
     },
     "execution_count": 35,
     "metadata": {},
     "output_type": "execute_result"
    },
    {
     "data": {
      "image/png": "[encoded data removed]",
      "text/plain": [
       "<Figure size 648x432 with 1 Axes>"
      ]
     },
     "metadata": {
      "needs_background": "light"
     },
     "output_type": "display_data"
    }
   ],
   "source": [
    "plt.figure(figsize=(9,6))\n",
    "fig = df[\"stroke\"].groupby(df[\"type_of_employment\"]).mean().plot(kind=\"bar\", color=list(\"rg\"))\n",
    "plt.title(\"stroke by type of employment\")\n",
    "plt.ylabel(\"precentage\")\n",
    "plt.xlabel(\"type of employment\")"
   ]
  },
  {
   "cell_type": "markdown",
   "metadata": {},
   "source": [
    "We can see that the precentage of people who were self employeed and had a stroke is a little higher than those who were salaried employeed.\n",
    "\n",
    "Out of those who were salaried employeed - 5% had a stroke, and out of those who were self employeed - 8% had a stroke.\n",
    "\n",
    "The conclusion - the type of employment (self or salaried), might be considered to predict a stroke, but it is not crucial."
   ]
  },
  {
   "cell_type": "markdown",
   "metadata": {},
   "source": [
    "## 3.3 children and adults"
   ]
  },
  {
   "cell_type": "code",
   "execution_count": 37,
   "metadata": {},
   "outputs": [
    {
     "name": "stdout",
     "output_type": "stream",
     "text": [
      "Age of the patient: 12\n"
     ]
    },
    {
     "data": {
      "text/plain": [
       "'child'"
      ]
     },
     "execution_count": 37,
     "metadata": {},
     "output_type": "execute_result"
    }
   ],
   "source": [
    "# In order to determine weather the patient is child or adult, we will enter his age by using class.\n",
    "class patient:\n",
    "    def __init__(self, age):\n",
    "        self.age = age\n",
    "    def child_adult(self):\n",
    "        if self.age <= 18:\n",
    "            return 'child'\n",
    "        if self.age > 18:\n",
    "            return 'adult'\n",
    "age = int(input('Age of the patient: '))\n",
    "patient1 = patient(age)\n",
    "patient1.child_adult()"
   ]
  },
  {
   "cell_type": "code",
   "execution_count": 38,
   "metadata": {},
   "outputs": [
    {
     "data": {
      "text/html": [
       "<div>\n",
       "<style scoped>\n",
       "    .dataframe tbody tr th:only-of-type {\n",
       "        vertical-align: middle;\n",
       "    }\n",
       "\n",
       "    .dataframe tbody tr th {\n",
       "        vertical-align: top;\n",
       "    }\n",
       "\n",
       "    .dataframe thead th {\n",
       "        text-align: right;\n",
       "    }\n",
       "</style>\n",
       "<table border=\"1\" class=\"dataframe\">\n",
       "  <thead>\n",
       "    <tr style=\"text-align: right;\">\n",
       "      <th></th>\n",
       "      <th>gender</th>\n",
       "      <th>age</th>\n",
       "      <th>hypertension</th>\n",
       "      <th>heart_disease</th>\n",
       "      <th>ever_married</th>\n",
       "      <th>work_type</th>\n",
       "      <th>Residence_type</th>\n",
       "      <th>avg_glucose_level</th>\n",
       "      <th>bmi</th>\n",
       "      <th>smoking_status</th>\n",
       "      <th>stroke</th>\n",
       "      <th>bmi_available</th>\n",
       "      <th>underlying_conditions</th>\n",
       "      <th>type_of_employment</th>\n",
       "      <th>children</th>\n",
       "      <th>adults</th>\n",
       "    </tr>\n",
       "  </thead>\n",
       "  <tbody>\n",
       "    <tr>\n",
       "      <th>0</th>\n",
       "      <td>Female</td>\n",
       "      <td>17.0</td>\n",
       "      <td>0</td>\n",
       "      <td>0</td>\n",
       "      <td>No</td>\n",
       "      <td>Private</td>\n",
       "      <td>Urban</td>\n",
       "      <td>92.97</td>\n",
       "      <td>28.893237</td>\n",
       "      <td>formerly smoked</td>\n",
       "      <td>0</td>\n",
       "      <td>False</td>\n",
       "      <td>0</td>\n",
       "      <td>salaried employee</td>\n",
       "      <td>True</td>\n",
       "      <td>False</td>\n",
       "    </tr>\n",
       "    <tr>\n",
       "      <th>1</th>\n",
       "      <td>Female</td>\n",
       "      <td>13.0</td>\n",
       "      <td>0</td>\n",
       "      <td>0</td>\n",
       "      <td>No</td>\n",
       "      <td>children</td>\n",
       "      <td>Rural</td>\n",
       "      <td>85.81</td>\n",
       "      <td>18.600000</td>\n",
       "      <td>Unknown</td>\n",
       "      <td>0</td>\n",
       "      <td>True</td>\n",
       "      <td>0</td>\n",
       "      <td>NaN</td>\n",
       "      <td>True</td>\n",
       "      <td>False</td>\n",
       "    </tr>\n",
       "  </tbody>\n",
       "</table>\n",
       "</div>"
      ],
      "text/plain": [
       "   gender   age  hypertension  heart_disease ever_married work_type  \\\n",
       "0  Female  17.0             0              0           No   Private   \n",
       "1  Female  13.0             0              0           No  children   \n",
       "\n",
       "  Residence_type  avg_glucose_level        bmi   smoking_status  stroke  \\\n",
       "0          Urban              92.97  28.893237  formerly smoked       0   \n",
       "1          Rural              85.81  18.600000          Unknown       0   \n",
       "\n",
       "   bmi_available  underlying_conditions type_of_employment  children  adults  \n",
       "0          False                      0  salaried employee      True   False  \n",
       "1           True                      0                NaN      True   False  "
      ]
     },
     "execution_count": 38,
     "metadata": {},
     "output_type": "execute_result"
    }
   ],
   "source": [
    "df[\"children\"] = df[\"age\"] <= 18\n",
    "df[\"adults\"] = df[\"age\"] > 18\n",
    "df.head(2)"
   ]
  },
  {
   "cell_type": "code",
   "execution_count": 39,
   "metadata": {},
   "outputs": [
    {
     "data": {
      "text/plain": [
       "Text(0.5, 0, 'children')"
      ]
     },
     "execution_count": 39,
     "metadata": {},
     "output_type": "execute_result"
    },
    {
     "data": {
      "image/png": "[encoded data removed]",
      "text/plain": [
       "<Figure size 648x432 with 1 Axes>"
      ]
     },
     "metadata": {
      "needs_background": "light"
     },
     "output_type": "display_data"
    }
   ],
   "source": [
    "plt.figure(figsize=(9,6))\n",
    "fig = df[\"stroke\"].groupby(df[\"children\"]).mean().plot(kind=\"bar\", color=list(\"rg\"))\n",
    "plt.title(\"stroke by children / adults\")\n",
    "plt.ylabel(\"precentage\")\n",
    "plt.xlabel(\"children\")"
   ]
  },
  {
   "cell_type": "markdown",
   "metadata": {},
   "source": [
    "We can see that among the children there are around 0.1% who had a stroke, and among the adults there are almost 6% who had a stroke.\n",
    "It means that adults are in much higher risk to get a stroke, while children almost don't get a stroke at all."
   ]
  },
  {
   "cell_type": "markdown",
   "metadata": {},
   "source": [
    "## feature engineering Conclusion"
   ]
  },
  {
   "cell_type": "markdown",
   "metadata": {},
   "source": [
    "As we saw, there are two features that can indicate very well weather the patient is at risk to get a stroke or not - underlying conditions and weather he is a child.\n",
    "we saw a significant corralation between the underling conditions and the probability to get a stroke. we also saw a huge differance between the adults and the children in their probability to get a stroke.\n",
    "\n",
    "Another feature that can indicate weather the patient is likely to get a stroke is his type of employment - if he is felf amployed his chances to get a stroke are higher than those who are salaried employeed, although the corralation is not very significant."
   ]
  }
 ],
 "metadata": {
  "kernelspec": {
   "display_name": "Python 3",
   "language": "python",
   "name": "python3"
  },
  "language_info": {
   "codemirror_mode": {
    "name": "ipython",
    "version": 3
   },
   "file_extension": ".py",
   "mimetype": "text/x-python",
   "name": "python",
   "nbconvert_exporter": "python",
   "pygments_lexer": "ipython3",
   "version": "3.8.3"
  }
 },
 "nbformat": 4,
 "nbformat_minor": 4
}
